{
 "cells": [
  {
   "cell_type": "code",
   "execution_count": 92,
   "id": "7f51f802",
   "metadata": {},
   "outputs": [],
   "source": [
    "import pandas as pd\n",
    "import numpy as np\n",
    "from sklearn.feature_extraction.text import CountVectorizer\n",
    "from sklearn.metrics.pairwise import cosine_similarity\n",
    "from ast import literal_eval"
   ]
  },
  {
   "cell_type": "code",
   "execution_count": 3,
   "id": "fec6b3cb",
   "metadata": {},
   "outputs": [
    {
     "data": {
      "text/html": [
       "<div>\n",
       "<style scoped>\n",
       "    .dataframe tbody tr th:only-of-type {\n",
       "        vertical-align: middle;\n",
       "    }\n",
       "\n",
       "    .dataframe tbody tr th {\n",
       "        vertical-align: top;\n",
       "    }\n",
       "\n",
       "    .dataframe thead th {\n",
       "        text-align: right;\n",
       "    }\n",
       "</style>\n",
       "<table border=\"1\" class=\"dataframe\">\n",
       "  <thead>\n",
       "    <tr style=\"text-align: right;\">\n",
       "      <th></th>\n",
       "      <th>Name</th>\n",
       "      <th>Actors</th>\n",
       "      <th>Score</th>\n",
       "      <th>About</th>\n",
       "      <th>Genre</th>\n",
       "      <th>Crew</th>\n",
       "      <th>Image</th>\n",
       "      <th>Voted</th>\n",
       "      <th>Type</th>\n",
       "    </tr>\n",
       "  </thead>\n",
       "  <tbody>\n",
       "    <tr>\n",
       "      <th>0</th>\n",
       "      <td>عطش</td>\n",
       "      <td>[' بهرام رادان', ' فریبرز عرب نیا', ' شهرام حق...</td>\n",
       "      <td>0.88</td>\n",
       "      <td>NaN</td>\n",
       "      <td>['اکشن', 'ماجراجویی']</td>\n",
       "      <td>[' محمدحسین فرح بخش', ' عبدالله علیخانی', ' فر...</td>\n",
       "      <td>https://static.cdn.asset.filimo.com/flmt/mov_9...</td>\n",
       "      <td>761</td>\n",
       "      <td>فیلم</td>\n",
       "    </tr>\n",
       "    <tr>\n",
       "      <th>1</th>\n",
       "      <td>یکی از میان همه</td>\n",
       "      <td>[' سروش صحت', ' رامین راستاد', ' آزاده صمدی', ...</td>\n",
       "      <td>0.69</td>\n",
       "      <td>نیلوفر و نرگس بدون اطلاع همسرانشان مجبور به سف...</td>\n",
       "      <td>['اکشن', 'هیجان انگیز']</td>\n",
       "      <td>[' ابراهیم شیبانی']</td>\n",
       "      <td>https://static.cdn.asset.filimo.com/flmt/mov_1...</td>\n",
       "      <td>280</td>\n",
       "      <td>فیلم</td>\n",
       "    </tr>\n",
       "    <tr>\n",
       "      <th>2</th>\n",
       "      <td>جاده جنایت</td>\n",
       "      <td>[' لعیا زنگنه', ' کاوه آرمیده', ' حشمت الله آر...</td>\n",
       "      <td>0.76</td>\n",
       "      <td>وقتی کتایون نگرانی و اضطراب بیش از حد شوهرش – ...</td>\n",
       "      <td>['اکشن', 'هیجان انگیز']</td>\n",
       "      <td>[' جهانبخش ایمانی', ' ذبیح الله رحمانی', ' آرز...</td>\n",
       "      <td>https://static.cdn.asset.filimo.com/flmt/mov_7...</td>\n",
       "      <td>530</td>\n",
       "      <td>فیلم</td>\n",
       "    </tr>\n",
       "    <tr>\n",
       "      <th>3</th>\n",
       "      <td>ساوالان</td>\n",
       "      <td>[' مجید مظفری', ' محمد برسوزیان', ' فردوس کاوی...</td>\n",
       "      <td>0.9</td>\n",
       "      <td>روستای ساوالان هرسال توسط گروهی راهزن غارت می ...</td>\n",
       "      <td>['اکشن', 'ماجراجویی']</td>\n",
       "      <td>[' یدالله صمدی', ' سیفعلی سیدکوثری نژاد', ' ید...</td>\n",
       "      <td>https://static.cdn.asset.filimo.com/flmt/mov_6...</td>\n",
       "      <td>493</td>\n",
       "      <td>فیلم</td>\n",
       "    </tr>\n",
       "    <tr>\n",
       "      <th>4</th>\n",
       "      <td>پوزه چرمی</td>\n",
       "      <td>[' ندا مقصودی', ' وحید جباری']</td>\n",
       "      <td>0.68</td>\n",
       "      <td>مردی برای رسیدن به اهدافش با پس انداز همسرش دس...</td>\n",
       "      <td>['فیلم تئاتر', 'خانوادگی']</td>\n",
       "      <td>[' محمدعلی زمانی', ' هلموت کراوزر', ' محمد مهد...</td>\n",
       "      <td>https://static.cdn.asset.filimo.com/flmt/mov_2...</td>\n",
       "      <td>182</td>\n",
       "      <td>فیلم</td>\n",
       "    </tr>\n",
       "  </tbody>\n",
       "</table>\n",
       "</div>"
      ],
      "text/plain": [
       "               Name                                             Actors Score  \\\n",
       "0               عطش  [' بهرام رادان', ' فریبرز عرب نیا', ' شهرام حق...  0.88   \n",
       "1   یکی از میان همه  [' سروش صحت', ' رامین راستاد', ' آزاده صمدی', ...  0.69   \n",
       "2        جاده جنایت  [' لعیا زنگنه', ' کاوه آرمیده', ' حشمت الله آر...  0.76   \n",
       "3           ساوالان  [' مجید مظفری', ' محمد برسوزیان', ' فردوس کاوی...   0.9   \n",
       "4         پوزه چرمی                     [' ندا مقصودی', ' وحید جباری']  0.68   \n",
       "\n",
       "                                               About  \\\n",
       "0                                                NaN   \n",
       "1  نیلوفر و نرگس بدون اطلاع همسرانشان مجبور به سف...   \n",
       "2  وقتی کتایون نگرانی و اضطراب بیش از حد شوهرش – ...   \n",
       "3  روستای ساوالان هرسال توسط گروهی راهزن غارت می ...   \n",
       "4  مردی برای رسیدن به اهدافش با پس انداز همسرش دس...   \n",
       "\n",
       "                        Genre  \\\n",
       "0       ['اکشن', 'ماجراجویی']   \n",
       "1     ['اکشن', 'هیجان انگیز']   \n",
       "2     ['اکشن', 'هیجان انگیز']   \n",
       "3       ['اکشن', 'ماجراجویی']   \n",
       "4  ['فیلم تئاتر', 'خانوادگی']   \n",
       "\n",
       "                                                Crew  \\\n",
       "0  [' محمدحسین فرح بخش', ' عبدالله علیخانی', ' فر...   \n",
       "1                                [' ابراهیم شیبانی']   \n",
       "2  [' جهانبخش ایمانی', ' ذبیح الله رحمانی', ' آرز...   \n",
       "3  [' یدالله صمدی', ' سیفعلی سیدکوثری نژاد', ' ید...   \n",
       "4  [' محمدعلی زمانی', ' هلموت کراوزر', ' محمد مهد...   \n",
       "\n",
       "                                               Image Voted  Type  \n",
       "0  https://static.cdn.asset.filimo.com/flmt/mov_9...   761  فیلم  \n",
       "1  https://static.cdn.asset.filimo.com/flmt/mov_1...   280  فیلم  \n",
       "2  https://static.cdn.asset.filimo.com/flmt/mov_7...   530  فیلم  \n",
       "3  https://static.cdn.asset.filimo.com/flmt/mov_6...   493  فیلم  \n",
       "4  https://static.cdn.asset.filimo.com/flmt/mov_2...   182  فیلم  "
      ]
     },
     "execution_count": 3,
     "metadata": {},
     "output_type": "execute_result"
    }
   ],
   "source": [
    "filimo_df = pd.read_csv('./data2.csv')\n",
    "filimo_df.head()"
   ]
  },
  {
   "cell_type": "code",
   "execution_count": 8,
   "id": "91328a8e",
   "metadata": {},
   "outputs": [
    {
     "name": "stdout",
     "output_type": "stream",
     "text": [
      "<class 'pandas.core.frame.DataFrame'>\n",
      "RangeIndex: 1410 entries, 0 to 1409\n",
      "Data columns (total 9 columns):\n",
      " #   Column  Non-Null Count  Dtype \n",
      "---  ------  --------------  ----- \n",
      " 0   Name    1410 non-null   object\n",
      " 1   Actors  1410 non-null   object\n",
      " 2   Score   1410 non-null   object\n",
      " 3   About   888 non-null    object\n",
      " 4   Genre   1410 non-null   object\n",
      " 5   Crew    1410 non-null   object\n",
      " 6   Image   1410 non-null   object\n",
      " 7   Voted   1408 non-null   object\n",
      " 8   Type    1410 non-null   object\n",
      "dtypes: object(9)\n",
      "memory usage: 99.3+ KB\n"
     ]
    }
   ],
   "source": [
    "filimo_df.info()"
   ]
  },
  {
   "cell_type": "code",
   "execution_count": 9,
   "id": "ce253217",
   "metadata": {},
   "outputs": [
    {
     "data": {
      "text/plain": [
       "(1410, 9)"
      ]
     },
     "execution_count": 9,
     "metadata": {},
     "output_type": "execute_result"
    }
   ],
   "source": [
    "filimo_df.shape"
   ]
  },
  {
   "cell_type": "code",
   "execution_count": 10,
   "id": "c1db96c7",
   "metadata": {},
   "outputs": [],
   "source": [
    "features = ['Actors','Genre','Crew']\n",
    "for f in features:\n",
    "    filimo_df[f] = filimo_df[f].map(literal_eval)"
   ]
  },
  {
   "cell_type": "code",
   "execution_count": 14,
   "id": "5a0759b8",
   "metadata": {},
   "outputs": [
    {
     "data": {
      "text/plain": [
       "' محمدحسین فرح بخش'"
      ]
     },
     "execution_count": 14,
     "metadata": {},
     "output_type": "execute_result"
    }
   ],
   "source": [
    "filimo_df.loc[0,'Crew'][0]"
   ]
  },
  {
   "cell_type": "code",
   "execution_count": 20,
   "id": "f7d42dd0",
   "metadata": {},
   "outputs": [
    {
     "name": "stdout",
     "output_type": "stream",
     "text": [
      "40\n",
      "2\n",
      "20\n"
     ]
    }
   ],
   "source": [
    "for f in features:\n",
    "    max_len = filimo_df[f].apply(len)\n",
    "    print(max(max_len))"
   ]
  },
  {
   "cell_type": "code",
   "execution_count": 30,
   "id": "7a0653ca",
   "metadata": {},
   "outputs": [],
   "source": [
    "def get_director(x):\n",
    "    if len(x):\n",
    "        return x[0].replace(' ','')\n",
    "    return ''"
   ]
  },
  {
   "cell_type": "code",
   "execution_count": 51,
   "id": "8c8c8a7c",
   "metadata": {},
   "outputs": [],
   "source": [
    "def get_names(x):\n",
    "    if len(x):\n",
    "        if len(x) > 3:\n",
    "            return [i.replace(' ', '') for i in x[:3]]\n",
    "        else:\n",
    "            return [i.replace(' ', '') for i in x]\n",
    "    return []"
   ]
  },
  {
   "cell_type": "code",
   "execution_count": 156,
   "id": "53011f01",
   "metadata": {},
   "outputs": [],
   "source": [
    "filimo_df = filimo_df[filimo_df['Type']=='فیلم']\n",
    "filimo_df.shape\n",
    "filimo_df.reset_index(inplace=True)"
   ]
  },
  {
   "cell_type": "code",
   "execution_count": 157,
   "id": "f48c2f7a",
   "metadata": {},
   "outputs": [],
   "source": [
    "filimo_df['director'] = filimo_df['Crew'].apply(get_director)"
   ]
  },
  {
   "cell_type": "code",
   "execution_count": 158,
   "id": "9f194a12",
   "metadata": {},
   "outputs": [],
   "source": [
    "features = ['Actors','Genre']\n",
    "for f in features:\n",
    "    filimo_df[f] = filimo_df[f].apply(get_names)"
   ]
  },
  {
   "cell_type": "code",
   "execution_count": 182,
   "id": "c5ea3a81",
   "metadata": {},
   "outputs": [],
   "source": [
    "def create_soup(x):\n",
    "    return ' '.join(x['Actors']) + ' ' +  ' '.join(x['Genre']) + ' ' + x['director'] + ' ' + x['director']"
   ]
  },
  {
   "cell_type": "code",
   "execution_count": 183,
   "id": "5fa71a72",
   "metadata": {},
   "outputs": [],
   "source": [
    "filimo_df['soup'] = filimo_df.apply(create_soup,axis=1)"
   ]
  },
  {
   "cell_type": "code",
   "execution_count": 184,
   "id": "4ca14b1e",
   "metadata": {},
   "outputs": [
    {
     "data": {
      "text/plain": [
       "'بهرامرادان فریبرزعربنیا شهرامحقیقتدوست اکشن ماجراجویی محمدحسینفرحبخش محمدحسینفرحبخش'"
      ]
     },
     "execution_count": 184,
     "metadata": {},
     "output_type": "execute_result"
    }
   ],
   "source": [
    "filimo_df.loc[0,'soup']"
   ]
  },
  {
   "cell_type": "code",
   "execution_count": 185,
   "id": "0f1df120",
   "metadata": {},
   "outputs": [
    {
     "data": {
      "text/plain": [
       "array(['hosseinnazer', 'ramtinlavafi', 'sahraakarimi', ..., 'یوسفمرادیان',\n",
       "       'یوناتدین', 'یکتاناصر'], dtype=object)"
      ]
     },
     "execution_count": 185,
     "metadata": {},
     "output_type": "execute_result"
    }
   ],
   "source": [
    "cv = CountVectorizer()\n",
    "soup_cv = cv.fit_transform(filimo_df['soup'])\n",
    "cv.get_feature_names_out()"
   ]
  },
  {
   "cell_type": "code",
   "execution_count": 186,
   "id": "16956984",
   "metadata": {},
   "outputs": [
    {
     "data": {
      "text/plain": [
       "(1327, 1901)"
      ]
     },
     "execution_count": 186,
     "metadata": {},
     "output_type": "execute_result"
    }
   ],
   "source": [
    "soup_cv.shape"
   ]
  },
  {
   "cell_type": "code",
   "execution_count": 187,
   "id": "25d2c3c0",
   "metadata": {},
   "outputs": [
    {
     "data": {
      "text/html": [
       "<div>\n",
       "<style scoped>\n",
       "    .dataframe tbody tr th:only-of-type {\n",
       "        vertical-align: middle;\n",
       "    }\n",
       "\n",
       "    .dataframe tbody tr th {\n",
       "        vertical-align: top;\n",
       "    }\n",
       "\n",
       "    .dataframe thead th {\n",
       "        text-align: right;\n",
       "    }\n",
       "</style>\n",
       "<table border=\"1\" class=\"dataframe\">\n",
       "  <thead>\n",
       "    <tr style=\"text-align: right;\">\n",
       "      <th></th>\n",
       "      <th>word</th>\n",
       "      <th>count</th>\n",
       "    </tr>\n",
       "  </thead>\n",
       "  <tbody>\n",
       "    <tr>\n",
       "      <th>1308</th>\n",
       "      <td>محمدحسینفرحبخش</td>\n",
       "      <td>[2]</td>\n",
       "    </tr>\n",
       "    <tr>\n",
       "      <th>894</th>\n",
       "      <td>شهرامحقیقتدوست</td>\n",
       "      <td>[1]</td>\n",
       "    </tr>\n",
       "    <tr>\n",
       "      <th>1170</th>\n",
       "      <td>فریبرزعربنیا</td>\n",
       "      <td>[1]</td>\n",
       "    </tr>\n",
       "    <tr>\n",
       "      <th>1217</th>\n",
       "      <td>ماجراجویی</td>\n",
       "      <td>[1]</td>\n",
       "    </tr>\n",
       "    <tr>\n",
       "      <th>280</th>\n",
       "      <td>بهرامرادان</td>\n",
       "      <td>[1]</td>\n",
       "    </tr>\n",
       "    <tr>\n",
       "      <th>238</th>\n",
       "      <td>اکشن</td>\n",
       "      <td>[1]</td>\n",
       "    </tr>\n",
       "    <tr>\n",
       "      <th>1420</th>\n",
       "      <td>مرجانهگلچین</td>\n",
       "      <td>[0]</td>\n",
       "    </tr>\n",
       "    <tr>\n",
       "      <th>1261</th>\n",
       "      <td>مجیدیاسر</td>\n",
       "      <td>[0]</td>\n",
       "    </tr>\n",
       "    <tr>\n",
       "      <th>1273</th>\n",
       "      <td>محسنزارعیان</td>\n",
       "      <td>[0]</td>\n",
       "    </tr>\n",
       "    <tr>\n",
       "      <th>1272</th>\n",
       "      <td>محسنرمضانی</td>\n",
       "      <td>[0]</td>\n",
       "    </tr>\n",
       "  </tbody>\n",
       "</table>\n",
       "</div>"
      ],
      "text/plain": [
       "                word count\n",
       "1308  محمدحسینفرحبخش   [2]\n",
       "894   شهرامحقیقتدوست   [1]\n",
       "1170    فریبرزعربنیا   [1]\n",
       "1217       ماجراجویی   [1]\n",
       "280       بهرامرادان   [1]\n",
       "238             اکشن   [1]\n",
       "1420     مرجانهگلچین   [0]\n",
       "1261        مجیدیاسر   [0]\n",
       "1273     محسنزارعیان   [0]\n",
       "1272      محسنرمضانی   [0]"
      ]
     },
     "execution_count": 187,
     "metadata": {},
     "output_type": "execute_result"
    }
   ],
   "source": [
    "example_df = pd.DataFrame({'word':cv.get_feature_names_out(), 'count': soup_cv[0].T.todense().tolist()})\n",
    "example_df.sort_values(by='count', ascending=False).head(10)"
   ]
  },
  {
   "cell_type": "code",
   "execution_count": 188,
   "id": "49b2192f",
   "metadata": {},
   "outputs": [],
   "source": [
    "cosine_sim = cosine_similarity(soup_cv, soup_cv)"
   ]
  },
  {
   "cell_type": "code",
   "execution_count": 189,
   "id": "4f5450d3",
   "metadata": {},
   "outputs": [
    {
     "data": {
      "text/plain": [
       "(1327, 1327)"
      ]
     },
     "execution_count": 189,
     "metadata": {},
     "output_type": "execute_result"
    }
   ],
   "source": [
    "cosine_sim.shape"
   ]
  },
  {
   "cell_type": "code",
   "execution_count": 190,
   "id": "75d5480f",
   "metadata": {},
   "outputs": [
    {
     "data": {
      "text/plain": [
       "array([   0,    1,    2, ..., 1324, 1325, 1326])"
      ]
     },
     "execution_count": 190,
     "metadata": {},
     "output_type": "execute_result"
    }
   ],
   "source": [
    "filimo_df.index.values"
   ]
  },
  {
   "cell_type": "code",
   "execution_count": 191,
   "id": "a3eeca86",
   "metadata": {},
   "outputs": [
    {
     "data": {
      "text/plain": [
       "Name\n",
       " حمال طلا              1322\n",
       " بهشت پنهان            1323\n",
       " جدا افتاده            1324\n",
       " پنجمین سوار سرنوشت    1325\n",
       " بید مجنون             1326\n",
       "dtype: int64"
      ]
     },
     "execution_count": 191,
     "metadata": {},
     "output_type": "execute_result"
    }
   ],
   "source": [
    "titles = pd.Series(filimo_df.index.values, index=filimo_df['Name'])\n",
    "titles.tail()"
   ]
  },
  {
   "cell_type": "code",
   "execution_count": 194,
   "id": "5b8b5527",
   "metadata": {},
   "outputs": [],
   "source": [
    "def get_recommendations(x, cosine_sim = cosine_sim):\n",
    "    n = cosine_sim.shape[0]\n",
    "    indices = titles[x]\n",
    "    x_cos_sim = cosine_sim[indices]\n",
    "    indices_sim = (-x_cos_sim).argsort()[:n]\n",
    "    titles_sim = []\n",
    "    for i in range(1,11):\n",
    "        titles_sim.append(titles.index[indices_sim[i]])\n",
    "    return titles_sim"
   ]
  },
  {
   "cell_type": "code",
   "execution_count": 195,
   "id": "136d1b6f",
   "metadata": {},
   "outputs": [
    {
     "data": {
      "text/plain": [
       "[' دیده بان',\n",
       " ' برج مینو',\n",
       " ' به وقت شام',\n",
       " ' مهاجر',\n",
       " ' بادیگارد',\n",
       " ' به رنگ ارغوان',\n",
       " ' ارتفاع پست',\n",
       " ' به نام پدر',\n",
       " ' دعوت',\n",
       " ' خروج']"
      ]
     },
     "execution_count": 195,
     "metadata": {},
     "output_type": "execute_result"
    }
   ],
   "source": [
    "get_recommendations(' از کرخه تا راین')"
   ]
  },
  {
   "cell_type": "code",
   "execution_count": 198,
   "id": "3af5ccd9",
   "metadata": {},
   "outputs": [
    {
     "data": {
      "text/plain": [
       "[' دیشب باباتو دیدم آیدا',\n",
       " ' سال دوم دانشکده من',\n",
       " ' دختری با کفش های کتانی',\n",
       " ' شب',\n",
       " ' کنعان',\n",
       " ' انتهای خیابان هشتم',\n",
       " ' آستیگمات',\n",
       " ' رسم عاشق کشی',\n",
       " ' دو',\n",
       " ' دریا موج کاکا']"
      ]
     },
     "execution_count": 198,
     "metadata": {},
     "output_type": "execute_result"
    }
   ],
   "source": [
    "get_recommendations(' من ترانه 15 سال دارم')"
   ]
  }
 ],
 "metadata": {
  "kernelspec": {
   "display_name": "Python 3 (ipykernel)",
   "language": "python",
   "name": "python3"
  },
  "language_info": {
   "codemirror_mode": {
    "name": "ipython",
    "version": 3
   },
   "file_extension": ".py",
   "mimetype": "text/x-python",
   "name": "python",
   "nbconvert_exporter": "python",
   "pygments_lexer": "ipython3",
   "version": "3.10.6"
  }
 },
 "nbformat": 4,
 "nbformat_minor": 5
}
